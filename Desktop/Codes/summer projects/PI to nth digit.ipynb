{
 "cells": [
  {
   "cell_type": "code",
   "execution_count": 19,
   "metadata": {
    "collapsed": false
   },
   "outputs": [
    {
     "name": "stdout",
     "output_type": "stream",
     "text": [
      "Enter rhe number of decimal places you want : 7\n",
      "3.1415926\n"
     ]
    }
   ],
   "source": [
    "import math\n",
    "from fractions import Fraction\n",
    "from decimal import Decimal\n",
    "\n",
    "def pi1(n):\n",
    "    print(str(math.pi)[:n+2])\n",
    "\n",
    "def pi2():\n",
    "    repetitions = 5000\n",
    "\n",
    "    d = 1\n",
    "    r = 0\n",
    "\n",
    "    for n in range(repetitions):\n",
    "        r += Fraction(1, d) - Fraction(1, d + 2)\n",
    "        d += 4\n",
    "\n",
    "    print(4*(Decimal(r.numerator)/Decimal(r.denominator)))\n",
    "    \n",
    "if __name__ == '__main__':\n",
    "    inp = int(input(\"Enter the number of decimal places you want : \"))\n",
    "    pi1(inp)"
   ]
  }
 ],
 "metadata": {
  "kernelspec": {
   "display_name": "Python [conda root]",
   "language": "python",
   "name": "conda-root-py"
  },
  "language_info": {
   "codemirror_mode": {
    "name": "ipython",
    "version": 3
   },
   "file_extension": ".py",
   "mimetype": "text/x-python",
   "name": "python",
   "nbconvert_exporter": "python",
   "pygments_lexer": "ipython3",
   "version": "3.5.2"
  }
 },
 "nbformat": 4,
 "nbformat_minor": 1
}
