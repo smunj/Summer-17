{
 "cells": [
  {
   "cell_type": "code",
   "execution_count": 2,
   "metadata": {
    "collapsed": false
   },
   "outputs": [
    {
     "name": "stdout",
     "output_type": "stream",
     "text": [
      "Enter the word : aeiou\n",
      "aeiou-ay\n"
     ]
    }
   ],
   "source": [
    "def vowels():\n",
    "    return ['a','e','i','o','u']\n",
    "    \n",
    "def piglatin(lst):\n",
    "    if lst[0] in vowels():\n",
    "        lst.append('-ay')\n",
    "        return ''.join(lst)\n",
    "    else:\n",
    "        temp = lst[0]\n",
    "        lst = lst[1:]\n",
    "        lst = lst + ['-'] + [temp] + ['ay'] \n",
    "        return ''.join(lst)\n",
    "    \n",
    "def main():\n",
    "    inp = input(\"Enter the word : \")\n",
    "    lst = list(inp)\n",
    "    if ' ' in lst:\n",
    "        print(\"invalid\")\n",
    "        user = input(\"Press any key to continue, q to quit : \")\n",
    "        if user.lower() == 'q':\n",
    "            sys.exit\n",
    "        else:\n",
    "            main()\n",
    "    print(piglatin(lst))        \n",
    "\n",
    "if __name__ == '__main__':\n",
    "    main()"
   ]
  }
 ],
 "metadata": {
  "anaconda-cloud": {},
  "kernelspec": {
   "display_name": "Python [conda root]",
   "language": "python",
   "name": "conda-root-py"
  },
  "language_info": {
   "codemirror_mode": {
    "name": "ipython",
    "version": 3
   },
   "file_extension": ".py",
   "mimetype": "text/x-python",
   "name": "python",
   "nbconvert_exporter": "python",
   "pygments_lexer": "ipython3",
   "version": "3.5.2"
  }
 },
 "nbformat": 4,
 "nbformat_minor": 1
}
