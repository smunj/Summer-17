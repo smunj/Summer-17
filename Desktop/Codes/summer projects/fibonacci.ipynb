{
 "cells": [
  {
   "cell_type": "code",
   "execution_count": 9,
   "metadata": {
    "collapsed": false
   },
   "outputs": [
    {
     "name": "stdout",
     "output_type": "stream",
     "text": [
      "Enter a for till a fibonacci number \n",
      "b for till nth fibonacci number: b\n",
      "Enter the number: 43\n",
      "1 1 2 3 5 8 13 21 34 55 89 144 233 377 610 987 1597 2584 4181 6765 10946 17711 28657 46368 75025 121393 196418 317811 514229 832040 1346269 2178309 3524578 5702887 9227465 14930352 24157817 39088169 63245986 102334155 165580141 267914296 433494437\n"
     ]
    }
   ],
   "source": [
    "def till_fibonacci(n):\n",
    "    a = 1\n",
    "    b = 1\n",
    "    lst = [a, b]\n",
    "    while lst[-1] <= n:\n",
    "        b = a + b\n",
    "        a = b - a\n",
    "        lst.append(b)\n",
    "    return lst[:-1]      \n",
    "    \n",
    "def till_n(n):\n",
    "    a = 1\n",
    "    b = 1\n",
    "    lst = [a, b]\n",
    "    for i in range(n-2):\n",
    "        b = a + b\n",
    "        a = b - a\n",
    "        lst.append(b)\n",
    "    return lst     \n",
    "\n",
    "def main():\n",
    "    user_input = input('Enter a for till a fibonacci number \\nb for till nth fibonacci number: ')\n",
    "    if user_input == 'a':\n",
    "        inp = int(input(\"Enter the number: \"))\n",
    "        print(*till_fibonacci(inp),sep=' ')\n",
    "    elif user_input == 'b':\n",
    "        inp = int(input(\"Enter the number: \"))\n",
    "        print(*till_n(inp),sep=' ')\n",
    "    else:\n",
    "        main()\n",
    "        \n",
    "if __name__ == '__main__':\n",
    "    main()"
   ]
  },
  {
   "cell_type": "code",
   "execution_count": 2,
   "metadata": {
    "collapsed": false
   },
   "outputs": [
    {
     "data": {
      "text/plain": [
       "()"
      ]
     },
     "execution_count": 2,
     "metadata": {},
     "output_type": "execute_result"
    }
   ],
   "source": [
    "()"
   ]
  }
 ],
 "metadata": {
  "kernelspec": {
   "display_name": "Python [conda root]",
   "language": "python",
   "name": "conda-root-py"
  },
  "language_info": {
   "codemirror_mode": {
    "name": "ipython",
    "version": 3
   },
   "file_extension": ".py",
   "mimetype": "text/x-python",
   "name": "python",
   "nbconvert_exporter": "python",
   "pygments_lexer": "ipython3",
   "version": "3.5.2"
  }
 },
 "nbformat": 4,
 "nbformat_minor": 1
}
