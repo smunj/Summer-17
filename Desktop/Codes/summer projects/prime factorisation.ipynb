{
 "cells": [
  {
   "cell_type": "code",
   "execution_count": null,
   "metadata": {
    "collapsed": false
   },
   "outputs": [
    {
     "name": "stdout",
     "output_type": "stream",
     "text": [
      "Enter the number: 194\n"
     ]
    }
   ],
   "source": [
    "def sieve(end):\n",
    "    prime_list = []\n",
    "    sieve_list = list(range(end+1))\n",
    "    for each_number in range(2,end+1):\n",
    "        if sieve_list[each_number]:\n",
    "            prime_list.append(each_number)\n",
    "            for every_multiple_of_the_prime in range(each_number*2, end+1, each_number):\n",
    "                sieve_list[every_multiple_of_the_prime] = 0\n",
    "    return prime_list\n",
    "\n",
    "def isprime(n):\n",
    "    \"\"\"Returns True if n is prime.\"\"\"\n",
    "    if n == 2:\n",
    "        return True\n",
    "    if n == 3:\n",
    "        return True\n",
    "    if n % 2 == 0:\n",
    "        return False\n",
    "    if n % 3 == 0:\n",
    "        return False\n",
    "\n",
    "    i = 5\n",
    "    w = 2\n",
    "\n",
    "    while i * i <= n:\n",
    "        if n % i == 0:\n",
    "            return False\n",
    "\n",
    "        i += w\n",
    "        w = 6 - w\n",
    "\n",
    "    return True\n",
    "\n",
    "def prime(n):\n",
    "    tempa = []\n",
    "    while n > 1:\n",
    "        if n % 2 == 0:\n",
    "            n = n / 2\n",
    "            tempa.append(2)\n",
    "        elif n % 3 == 0:\n",
    "            n = n / 3\n",
    "            tempa.append(3)\n",
    "        elif n % 5 == 0:\n",
    "            n = n / 5\n",
    "            tempa.append(5)\n",
    "        elif n % 7 == 0:\n",
    "            n = n / 7\n",
    "            tempa.append(7)\n",
    "        else:\n",
    "            if isprime(n):\n",
    "                tempa.append(n)\n",
    "                n = 1\n",
    "            else:\n",
    "                lst = sieve(n/2)\n",
    "                if len(lst) > 4:\n",
    "                    lst = lst[4:]\n",
    "                for i in lst:\n",
    "                    if n % i == 0:\n",
    "                        n = n / i\n",
    "                        tempa.append(i)\n",
    "    return tempa            \n",
    "                        \n",
    "def main():\n",
    "    inp = int(input(\"Enter the number: \"))\n",
    "    print(*prime(inp),sep=' ')\n",
    "\n",
    "if __name__ == \"__main__\":\n",
    "    main()"
   ]
  }
 ],
 "metadata": {
  "anaconda-cloud": {},
  "kernelspec": {
   "display_name": "Python [conda root]",
   "language": "python",
   "name": "conda-root-py"
  },
  "language_info": {
   "codemirror_mode": {
    "name": "ipython",
    "version": 3
   },
   "file_extension": ".py",
   "mimetype": "text/x-python",
   "name": "python",
   "nbconvert_exporter": "python",
   "pygments_lexer": "ipython3",
   "version": "3.5.2"
  }
 },
 "nbformat": 4,
 "nbformat_minor": 1
}
