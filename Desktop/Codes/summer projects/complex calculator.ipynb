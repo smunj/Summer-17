{
 "cells": [
  {
   "cell_type": "code",
   "execution_count": 4,
   "metadata": {
    "collapsed": false
   },
   "outputs": [
    {
     "name": "stdout",
     "output_type": "stream",
     "text": [
      "Enter the first number in the format x+iy : 3+i4\n",
      "Enter the second number in the format x+iy : 8+i9\n",
      "1. Negation of numbers\n",
      "2. Inverse of numbers\n",
      "3. Addition of numbers\n",
      "4. Multiplication of numbers\n",
      "Choose from 1, 2, 3, 43\n",
      "3+i4\n",
      "8+i9\n",
      "11+i13\n",
      "Addition of None and None equals None\n"
     ]
    }
   ],
   "source": [
    "from math import sqrt\n",
    "\n",
    "class complex:\n",
    "    def __init__(self, x ,y):\n",
    "        self.x = x\n",
    "        self.y = y\n",
    "\n",
    "    def add(self):\n",
    "        return number(self.x.r+self.y.r, self.x.im+self.y.im).show()\n",
    "\n",
    "    def multiply(self):\n",
    "        return number(self.x.r*self.y.r-self.x.im*self.y.im, self.y.r*self.x.im+self.x.r*self.y.im).show()\n",
    "\n",
    "\n",
    "\n",
    "class number:\n",
    "    def __init__(self, x, y):\n",
    "        self.r = x\n",
    "        self.im = y\n",
    "\n",
    "    def show(self):\n",
    "        print((\"{0}+i{1}\").format(self.r,self.im))\n",
    "\n",
    "    def negation(self):\n",
    "        self.r = self.r*-1\n",
    "        self.im = self.im*-1\n",
    "        return self\n",
    "\n",
    "    def inversion(self):\n",
    "        root = sqrt(self.r*self.r + self.im*self.im)\n",
    "        self.r = (self.r/root)\n",
    "        self.im = -(self.im/root)\n",
    "        return self\n",
    "\n",
    "\n",
    "def main():\n",
    "    inp1 = input(\"Enter the first number in the format x+iy : \")\n",
    "    inp2 = input(\"Enter the second number in the format x+iy : \")\n",
    "    try:\n",
    "        a, b = list(inp1)[0],list(inp1)[3]\n",
    "    except:\n",
    "        print(\"Use the format specified\")\n",
    "        main()\n",
    "    try:\n",
    "        c, d = list(inp2)[0],list(inp2)[3]\n",
    "    except:\n",
    "        print(\"Use the format specified\")\n",
    "        main()    \n",
    "    n1 = number(int(a),int(b))\n",
    "    n2 = number(int(c),int(d))\n",
    "    \n",
    "    print(\"1. Negation of numbers\")\n",
    "    print(\"2. Inverse of numbers\")\n",
    "    print(\"3. Addition of numbers\")\n",
    "    print(\"4. Multiplication of numbers\")\n",
    "    \n",
    "    inp = input(\"Choose from 1 2 3 4:\")\n",
    "    if inp == '1':\n",
    "        print((\"Negative of {0} equals {1}\").format(n1.show(), n1.negation().show()))\n",
    "        print((\"Negative of {0} equals {1}\").format(n2.show(), n2.negation().show()))\n",
    "    elif inp == '2':\n",
    "        print((\"Inverse of {0} equals {1}\").format(n1.show(), n1.inverse().show()))\n",
    "        print((\"Inverse of {0} equals {1}\").format(n2.show(), n2.inverse().show()))\n",
    "    elif inp == '3':\n",
    "        print((\"Addition of {0} and {1} equals {2}\").format(n1.show(), n2.show(), complex(n1, n2).add()))\n",
    "    elif inp == '4':\n",
    "        print((\"Multiplication of {0} and {1} equals {2}\").format(n1.show(), n2.show(), complex(n1, n2).multiply()))\n",
    "    else:\n",
    "        print(\"Invalid number chosen\")\n",
    "        new = input(\"Enter q to exit, else press any other key\")     \n",
    "        if new.lower() == 'q':\n",
    "            sys.exit\n",
    "        else:\n",
    "            main()\n",
    "              \n",
    "if __name__ == '__main__':\n",
    "              main()"
   ]
  },
  {
   "cell_type": "code",
   "execution_count": null,
   "metadata": {
    "collapsed": true
   },
   "outputs": [],
   "source": []
  }
 ],
 "metadata": {
  "anaconda-cloud": {},
  "kernelspec": {
   "display_name": "Python [conda root]",
   "language": "python",
   "name": "conda-root-py"
  },
  "language_info": {
   "codemirror_mode": {
    "name": "ipython",
    "version": 3
   },
   "file_extension": ".py",
   "mimetype": "text/x-python",
   "name": "python",
   "nbconvert_exporter": "python",
   "pygments_lexer": "ipython3",
   "version": "3.5.2"
  }
 },
 "nbformat": 4,
 "nbformat_minor": 1
}
