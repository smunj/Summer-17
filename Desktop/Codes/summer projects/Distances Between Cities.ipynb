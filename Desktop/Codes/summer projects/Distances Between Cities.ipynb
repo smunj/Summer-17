{
 "cells": [
  {
   "cell_type": "code",
   "execution_count": 6,
   "metadata": {
    "collapsed": false
   },
   "outputs": [
    {
     "name": "stdout",
     "output_type": "stream",
     "text": [
      "Enter the first address with spaces: jaipur india\n",
      "Enter the second address with spaces: ahmedabad india\n",
      "Distance between Jaipur, Rajasthan, 302001, India and Ahmedabad, Ahmadabad, Gujarat, 380001, India is 541.4031 km\n"
     ]
    }
   ],
   "source": [
    "from geopy.geocoders import Nominatim\n",
    "from geopy.distance import vincenty\n",
    "import sys\n",
    "geolocator = Nominatim()\n",
    "#location = geolocator.geocode(\"Viahali jsdk Jaipur Rajasthan\")\n",
    "\n",
    "def main():\n",
    "    fro = input(\"Enter the first address with spaces: \")\n",
    "    try:\n",
    "        location_1 = geolocator.geocode(fro).address\n",
    "    except:\n",
    "        print(\"Address is invalid\")\n",
    "        inp = input(\"Press q to quit, anything else to continue: \")\n",
    "        if inp.lower() == 'q':\n",
    "            sys.exitq\n",
    "        else:    \n",
    "            main()\n",
    "    \n",
    "    to = input(\"Enter the second address with spaces: \")\n",
    "    try:\n",
    "        location_2 = geolocator.geocode(to).address\n",
    "    except:\n",
    "        print(\"Address is invalid\")\n",
    "        inp = input(\"Press q to quit, anything else to continue: \")\n",
    "        if inp.lower() == 'q':\n",
    "            sys.exit\n",
    "        else:    \n",
    "            main()\n",
    "    \n",
    "    fro = (geolocator.geocode(fro).latitude,geolocator.geocode(fro).longitude)\n",
    "    to = (geolocator.geocode(to).latitude,geolocator.geocode(to).longitude)\n",
    "    print(\"Distance between {0} and {1} is {2:.4f} km\".format(location_1, location_2, (vincenty(to, fro).meters)/1000))\n",
    "\n",
    "if __name__ == \"__main__\":\n",
    "    main()"
   ]
  },
  {
   "cell_type": "code",
   "execution_count": null,
   "metadata": {
    "collapsed": true
   },
   "outputs": [],
   "source": []
  }
 ],
 "metadata": {
  "anaconda-cloud": {},
  "kernelspec": {
   "display_name": "Python [conda root]",
   "language": "python",
   "name": "conda-root-py"
  },
  "language_info": {
   "codemirror_mode": {
    "name": "ipython",
    "version": 3
   },
   "file_extension": ".py",
   "mimetype": "text/x-python",
   "name": "python",
   "nbconvert_exporter": "python",
   "pygments_lexer": "ipython3",
   "version": "3.5.2"
  }
 },
 "nbformat": 4,
 "nbformat_minor": 1
}
