{
 "cells": [
  {
   "cell_type": "code",
   "execution_count": null,
   "metadata": {
    "collapsed": false
   },
   "outputs": [
    {
     "name": "stdout",
     "output_type": "stream",
     "text": [
      "Would you like to see the next prime? (Y/N) y\n",
      "2\n",
      "Would you like to see the next prime? (Y/N) y\n",
      "3\n"
     ]
    }
   ],
   "source": [
    "def isprime(n):\n",
    "    \"\"\"Returns True if n is prime.\"\"\"\n",
    "    if n == 2:\n",
    "        return True\n",
    "    if n == 3:\n",
    "        return True\n",
    "    if n % 2 == 0:\n",
    "        return False\n",
    "    if n % 3 == 0:\n",
    "        return False\n",
    "\n",
    "    i = 5\n",
    "    w = 2\n",
    "\n",
    "    while i * i <= n:\n",
    "        if n % i == 0:\n",
    "            return False\n",
    "\n",
    "        i += w\n",
    "        w = 6 - w\n",
    "\n",
    "    return True\n",
    "\n",
    "\n",
    "def genPrime(currentPrime):\n",
    "    while True:\n",
    "        currentPrime += + 2\n",
    "        if isprime(currentPrime):\n",
    "            break\n",
    "    return currentPrime\n",
    "\n",
    "def main():  # Wrapper function\n",
    "    prime = 2\n",
    "    answer = input('Would you like to see the next prime? (Y/N) ')\n",
    "    if answer.lower().startswith('y'):\n",
    "        print(prime)\n",
    "    prime = 3   \n",
    "    while True:\n",
    "        answer = input('Would you like to see the next prime? (Y/N) ')\n",
    "        if answer.lower().startswith('y'):\n",
    "            print(prime)\n",
    "            prime = genPrime(prime)\n",
    "        else:\n",
    "            break\n",
    "\n",
    "if __name__ == '__main__':\n",
    "    main()"
   ]
  }
 ],
 "metadata": {
  "kernelspec": {
   "display_name": "Python [conda root]",
   "language": "python",
   "name": "conda-root-py"
  },
  "language_info": {
   "codemirror_mode": {
    "name": "ipython",
    "version": 3
   },
   "file_extension": ".py",
   "mimetype": "text/x-python",
   "name": "python",
   "nbconvert_exporter": "python",
   "pygments_lexer": "ipython3",
   "version": "3.5.2"
  }
 },
 "nbformat": 4,
 "nbformat_minor": 1
}
